{
  "cells": [
    {
      "cell_type": "code",
      "execution_count": null,
      "metadata": {
        "dotnet_interactive": {
          "language": "csharp"
        },
        "vscode": {
          "languageId": "dotnet-interactive.csharp"
        }
      },
      "outputs": [
        {
          "data": {
            "text/html": [
              "<div><div><strong>Restore sources</strong><ul><li><span>https://mlnetcli.blob.core.windows.net/mlnetcli/index.json</span></li><li><span>https://pkgs.dev.azure.com/dnceng/public/_packaging/dotnet-tools/nuget/v3/index.json</span></li><li><span>https://pkgs.dev.azure.com/dnceng/public/_packaging/dotnet5/nuget/v3/index.json</span></li></ul></div><div></div><div></div></div>"
            ]
          },
          "metadata": {},
          "output_type": "display_data"
        }
      ],
      "source": [
        "/* ML.NET Model Builder generated Notebook file. Notebook files contain both code snippets and rich text elements.\n",
        "Use the \"run\" button in the left margin to execute each code snippet and explore ML.NET. */\n",
        "\n",
        "#i \"nuget:https://pkgs.dev.azure.com/dnceng/public/_packaging/dotnet5/nuget/v3/index.json\" \n",
        "#i \"nuget:https://pkgs.dev.azure.com/dnceng/public/_packaging/dotnet-tools/nuget/v3/index.json\"\n",
        "#i \"nuget:https://mlnetcli.blob.core.windows.net/mlnetcli/index.json\""
      ]
    },
    {
      "cell_type": "code",
      "execution_count": null,
      "metadata": {
        "dotnet_interactive": {
          "language": "csharp"
        },
        "vscode": {
          "languageId": "dotnet-interactive.csharp"
        }
      },
      "outputs": [
        {
          "data": {
            "text/html": [
              "<div><div><strong>Restore sources</strong><ul><li><span>https://mlnetcli.blob.core.windows.net/mlnetcli/index.json</span></li><li><span>https://pkgs.dev.azure.com/dnceng/public/_packaging/dotnet-tools/nuget/v3/index.json</span></li><li><span>https://pkgs.dev.azure.com/dnceng/public/_packaging/dotnet5/nuget/v3/index.json</span></li></ul></div><div></div><div><strong>Installed Packages</strong><ul><li><span>Microsoft.Data.Analysis, 0.20.9-dev.22217.1</span></li><li><span>Microsoft.ML.AutoML, 0.20.9-dev.22217.1</span></li><li><span>Microsoft.ML.TimeSeries, 2.0.9-dev.22217.1</span></li><li><span>MLNetAutoML.InteractiveExtension, 0.1.1</span></li><li><span>XPlot.Plotly.Interactive, 4.0.6</span></li></ul></div></div>"
            ]
          },
          "metadata": {},
          "output_type": "display_data"
        },
        {
          "data": {
            "text/markdown": [
              "Loading extensions from `Microsoft.Data.Analysis.Interactive.dll`"
            ]
          },
          "metadata": {},
          "output_type": "display_data"
        },
        {
          "data": {
            "text/markdown": [
              "Loading extensions from `MLNetAutoML.InteractiveExtension.dll`"
            ]
          },
          "metadata": {},
          "output_type": "display_data"
        },
        {
          "data": {
            "text/markdown": [
              "Loading extensions from `XPlot.Plotly.Interactive.dll`"
            ]
          },
          "metadata": {},
          "output_type": "display_data"
        },
        {
          "data": {
            "text/markdown": [
              "Configuring PowerShell Kernel for XPlot.Plotly integration."
            ]
          },
          "metadata": {},
          "output_type": "display_data"
        },
        {
          "data": {
            "text/markdown": [
              "Installed support for XPlot.Plotly."
            ]
          },
          "metadata": {},
          "output_type": "display_data"
        }
      ],
      "source": [
        "#r \"nuget:MLNetAutoML.InteractiveExtension,0.1.1\"\n",
        "#r \"nuget:Microsoft.ML.AutoML,0.20.9-dev.22217.1\"\n",
        "#r \"nuget:Microsoft.ML.TimeSeries,2.0.9-dev.22217.1\"\n",
        "#r \"nuget:Microsoft.Data.Analysis,0.20.9-dev.22217.1\"\n",
        "#r \"nuget:XPlot.Plotly.Interactive,4.0.6\""
      ]
    },
    {
      "cell_type": "code",
      "execution_count": null,
      "metadata": {
        "dotnet_interactive": {
          "language": "csharp"
        },
        "vscode": {
          "languageId": "dotnet-interactive.csharp"
        }
      },
      "outputs": [],
      "source": [
        "// Import common usings.\n",
        "using static Microsoft.DotNet.Interactive.Formatting.PocketViewTags;\n",
        "using Microsoft.DotNet.Interactive.Formatting;\n",
        "using Microsoft.Data.Analysis;\n",
        "using System;\n",
        "using System.Collections.Generic;\n",
        "using System.IO;\n",
        "using System.Linq;\n",
        "using Microsoft.ML;\n",
        "using Microsoft.ML.Data;\n",
        "using Microsoft.ML.Trainers;\n",
        "using Microsoft.ML.SearchSpace;\n",
        "using Microsoft.ML.SearchSpace.Tuner;\n",
        "using Microsoft.ML.Transforms.Text;\n",
        "using Microsoft.ML.AutoML;\n",
        "using System;\n",
        "using System.Collections.Generic;\n",
        "using System.Text;\n",
        "using System.Text.Json;\n",
        "using Microsoft.ML.Runtime;\n",
        "using MLNetAutoML.InteractiveExtension;\n",
        "using System.Diagnostics;\n",
        "using Microsoft.ML.Transforms.TimeSeries;\n"
      ]
    },
    {
      "cell_type": "code",
      "execution_count": null,
      "metadata": {
        "dotnet_interactive": {
          "language": "csharp"
        },
        "vscode": {
          "languageId": "dotnet-interactive.csharp"
        }
      },
      "outputs": [],
      "source": [
        "\n",
        "public class ForecastInput\n",
        "{\n",
        "    [ColumnName(\"load\")]\n",
        "    public float Load { get; set; }\n",
        "}\n",
        "\n",
        "public class ForecastOutnput\n",
        "{\n",
        "    [ColumnName(\"predict\")]\n",
        "    public float[] Predict { get; set; }\n",
        "}\n",
        "\n",
        "public class CustomRunner : ITrialRunner\n",
        "{\n",
        "    private MLContext _context;\n",
        "\n",
        "    public CustomRunner(MLContext context)\n",
        "    {\n",
        "        this._context = context;\n",
        "    }\n",
        "\n",
        "    public TrialResult Run(TrialSettings settings)\n",
        "    {\n",
        "        if (settings.ExperimentSettings.DatasetSettings is TrainTestDatasetSettings datasetSettings)\n",
        "        {\n",
        "            try\n",
        "            {\n",
        "                var trainDataset = datasetSettings.TrainDataset;\n",
        "                var testDataset = datasetSettings.TestDataset;\n",
        "\n",
        "                var stopWatch = new Stopwatch();\n",
        "                stopWatch.Start();\n",
        "                var pipeline = settings.Pipeline.BuildTrainingPipeline(this._context, settings.Parameter);\n",
        "                var model = pipeline.Fit(trainDataset);\n",
        "\n",
        "                var predictEngine = model.CreateTimeSeriesEngine<ForecastInput, ForecastOutnput>(this._context);\n",
        "\n",
        "                // check point\n",
        "                predictEngine.CheckPoint(this._context, \"origin\");\n",
        "\n",
        "                var predictedLoad1H = new List<float>();\n",
        "                var predictedLoad2H = new List<float>();\n",
        "                var N = testDataset.GetRowCount();\n",
        "\n",
        "                // evaluate\n",
        "                foreach (var load in testDataset.GetColumn<Single>(\"load\"))\n",
        "                {\n",
        "                    // firstly, get next n predict where n is horizon\n",
        "                    var predict = predictEngine.Predict();\n",
        "\n",
        "                    predictedLoad1H.Add(predict.Predict[0]);\n",
        "                    predictedLoad2H.Add(predict.Predict[1]);\n",
        "\n",
        "                    // update model with truth value\n",
        "                    predictEngine.Predict(new ForecastInput()\n",
        "                    {\n",
        "                        Load = load,\n",
        "                    });\n",
        "                }\n",
        "\n",
        "                var rmse1H = Enumerable.Zip(testDataset.GetColumn<float>(\"load\"), predictedLoad1H)\n",
        "                                       .Select(x => Math.Pow(x.First - x.Second, 2))\n",
        "                                       .Average();\n",
        "                rmse1H = Math.Sqrt(rmse1H);\n",
        "\n",
        "                var rmse2H = Enumerable.Zip(testDataset.GetColumn<float>(\"load\").Skip(1), predictedLoad2H.SkipLast(1))\n",
        "                                       .Select(x => Math.Pow(x.First - x.Second, 2))\n",
        "                                       .Average();\n",
        "                rmse2H = Math.Sqrt(rmse2H);\n",
        "\n",
        "                stopWatch.Stop();\n",
        "                var rmse = rmse1H + rmse2H;\n",
        "\n",
        "                return new TrialResult()\n",
        "                {\n",
        "                    Metric = rmse,\n",
        "                    Model = model,\n",
        "                    TrialSettings = settings,\n",
        "                    DurationInMilliseconds = stopWatch.ElapsedMilliseconds,\n",
        "                };\n",
        "\n",
        "            }\n",
        "            catch (Exception)\n",
        "            {\n",
        "                return new TrialResult()\n",
        "                {\n",
        "                    Metric = double.MaxValue,\n",
        "                    Model = null,\n",
        "                    TrialSettings = settings,\n",
        "                    DurationInMilliseconds = 0,\n",
        "                };\n",
        "            }\n",
        "        }\n",
        "\n",
        "        throw new ArgumentException();\n",
        "    }\n",
        "}\n",
        "public class ForecastBySsaSearchSpace\n",
        "{\n",
        "    [Range(2, 24 * 7 * 30)]\n",
        "    public int WindowSize { get; set; } = 24 *3;\n",
        "\n",
        "    [Range(2, 24 * 7 * 30)]\n",
        "    public int SeriesLength { get; set; } = 24 * 7;\n",
        "\n",
        "    [Range(1, 24 * 7 * 30)]\n",
        "    public int Rank { get; set; } = 1;\n",
        "\n",
        "    [Range(24 * 7, 3975)]\n",
        "    public int TrainSize { get; set; } = 3975;\n",
        "\n",
        "    [Range(2,24*7*3)]\n",
        "    public int Horizon { get; set; } = 2;\n",
        "\n",
        "    [Range(0.00001F,1F)]\n",
        "    public float DiscountFactor {get; set;} = 1;\n",
        "}"
      ]
    },
    {
      "cell_type": "code",
      "execution_count": null,
      "metadata": {
        "dotnet_interactive": {
          "language": "csharp"
        },
        "vscode": {
          "languageId": "dotnet-interactive.csharp"
        }
      },
      "outputs": [
        {
          "name": "stdout",
          "output_type": "stream",
          "text": [
            "train data Length: 3975\r\n"
          ]
        },
        {
          "data": {
            "text/html": [
              "<div><h3>Best Run</h3><p>Trial: 15</p><p>Pipeline: Unknown=&gt;Unknown</p><h3>Active Run</h3><p>Trial: 23</p><p>Pipeline: Unknown=&gt;Unknown</p><p>Parameters: {\r\n",
              "  &quot;0&quot;: {},\r\n",
              "  &quot;1&quot;: {\r\n",
              "    &quot;DiscountFactor&quot;: 0.07273312,\r\n",
              "    &quot;Horizon&quot;: 48,\r\n",
              "    &quot;Rank&quot;: 1,\r\n",
              "    &quot;SeriesLength&quot;: 512,\r\n",
              "    &quot;TrainSize&quot;: 332,\r\n",
              "    &quot;WindowSize&quot;: 2\r\n",
              "  }\r\n",
              "}</p></div><!DOCTYPE html>\r\n",
              "<div style=\"width: 500px; height: 500px;\" id=\"b825b448-4f31-4776-a40e-0bcb0770c62a\"></div><script type=\"text/javascript\">\r\n",
              "\n",
              "var renderPlotly = function() {\n",
              "    var xplotRequire = require.config({context:'xplot-3.0.1',paths:{plotly:'https://cdn.plot.ly/plotly-1.49.2.min'}}) || require;\n",
              "    xplotRequire(['plotly'], function(Plotly) { \r\n",
              "\n",
              "            var data = [{\"type\":\"scatter\",\"x\":[0,1,2,3,4,5,6,7,8,9,10,11,12,13,14,15,16,17,18,19,20,21,22],\"y\":[1.7976931348623157E+308,1173636.8070487252,1.7976931348623157E+308,2138021.8568088408,1.7976931348623157E+308,1.7976931348623157E+308,1481066.968986265,1173636.8070487252,1.7976931348623157E+308,1173636.8070487252,768703.2734135423,1.7976931348623157E+308,1050939.0924420957,1.7976931348623157E+308,1168303.0214108033,585388.8760871883,1170511.6562105236,1.7976931348623157E+308,2053634.4438700406,1169107.76841407,1183143.931166399,1.7976931348623157E+308,1902086.489567483],\"mode\":\"markers\"}];\n",
              "           var layout = {\"title\":\"Plot metrics over trials.\",\"showlegend\":false,\"xaxis\":{\"title\":\"Trial\",\"_isSubplotObj\":true},\"yaxis\":{\"title\":\"Metric\",\"_isSubplotObj\":true}};\n",
              "           Plotly.newPlot('b825b448-4f31-4776-a40e-0bcb0770c62a', data, layout);\n",
              "        \r\n",
              "});\n",
              "};\r\n",
              "// ensure `require` is available globally\r\n",
              "if ((typeof(require) !==  typeof(Function)) || (typeof(require.config) !== typeof(Function))) {\r\n",
              "    let require_script = document.createElement('script');\r\n",
              "    require_script.setAttribute('src', 'https://cdnjs.cloudflare.com/ajax/libs/require.js/2.3.6/require.min.js');\r\n",
              "    require_script.setAttribute('type', 'text/javascript');\r\n",
              "    \r\n",
              "    \r\n",
              "    require_script.onload = function() {\r\n",
              "        renderPlotly();\r\n",
              "    };\r\n",
              "\r\n",
              "    document.getElementsByTagName('head')[0].appendChild(require_script);\r\n",
              "}\r\n",
              "else {\r\n",
              "    renderPlotly();\r\n",
              "}\r\n",
              "\r\n",
              "</script>\r\n",
              "<table id=\"table_637858734262558355\"><thead><tr><th><i>index</i></th><th>Trial</th><th>Metric</th><th>Pipeline</th></tr></thead><tbody><tr><td><i><div class=\"dni-plaintext\">0</div></i></td><td><div class=\"dni-plaintext\">0</div></td><td><div class=\"dni-plaintext\">Infinity</div></td><td>Unknown=&gt;Unknown</td></tr><tr><td><i><div class=\"dni-plaintext\">1</div></i></td><td><div class=\"dni-plaintext\">1</div></td><td><div class=\"dni-plaintext\">1173636.8</div></td><td>Unknown=&gt;Unknown</td></tr><tr><td><i><div class=\"dni-plaintext\">2</div></i></td><td><div class=\"dni-plaintext\">2</div></td><td><div class=\"dni-plaintext\">Infinity</div></td><td>Unknown=&gt;Unknown</td></tr><tr><td><i><div class=\"dni-plaintext\">3</div></i></td><td><div class=\"dni-plaintext\">3</div></td><td><div class=\"dni-plaintext\">2138021.8</div></td><td>Unknown=&gt;Unknown</td></tr><tr><td><i><div class=\"dni-plaintext\">4</div></i></td><td><div class=\"dni-plaintext\">4</div></td><td><div class=\"dni-plaintext\">Infinity</div></td><td>Unknown=&gt;Unknown</td></tr><tr><td><i><div class=\"dni-plaintext\">5</div></i></td><td><div class=\"dni-plaintext\">5</div></td><td><div class=\"dni-plaintext\">Infinity</div></td><td>Unknown=&gt;Unknown</td></tr><tr><td><i><div class=\"dni-plaintext\">6</div></i></td><td><div class=\"dni-plaintext\">6</div></td><td><div class=\"dni-plaintext\">1481067</div></td><td>Unknown=&gt;Unknown</td></tr><tr><td><i><div class=\"dni-plaintext\">7</div></i></td><td><div class=\"dni-plaintext\">7</div></td><td><div class=\"dni-plaintext\">1173636.8</div></td><td>Unknown=&gt;Unknown</td></tr><tr><td><i><div class=\"dni-plaintext\">8</div></i></td><td><div class=\"dni-plaintext\">8</div></td><td><div class=\"dni-plaintext\">Infinity</div></td><td>Unknown=&gt;Unknown</td></tr><tr><td><i><div class=\"dni-plaintext\">9</div></i></td><td><div class=\"dni-plaintext\">9</div></td><td><div class=\"dni-plaintext\">1173636.8</div></td><td>Unknown=&gt;Unknown</td></tr><tr><td><i><div class=\"dni-plaintext\">10</div></i></td><td><div class=\"dni-plaintext\">10</div></td><td><div class=\"dni-plaintext\">768703.25</div></td><td>Unknown=&gt;Unknown</td></tr><tr><td><i><div class=\"dni-plaintext\">11</div></i></td><td><div class=\"dni-plaintext\">11</div></td><td><div class=\"dni-plaintext\">Infinity</div></td><td>Unknown=&gt;Unknown</td></tr><tr><td><i><div class=\"dni-plaintext\">12</div></i></td><td><div class=\"dni-plaintext\">12</div></td><td><div class=\"dni-plaintext\">1050939.1</div></td><td>Unknown=&gt;Unknown</td></tr><tr><td><i><div class=\"dni-plaintext\">13</div></i></td><td><div class=\"dni-plaintext\">13</div></td><td><div class=\"dni-plaintext\">Infinity</div></td><td>Unknown=&gt;Unknown</td></tr><tr><td><i><div class=\"dni-plaintext\">14</div></i></td><td><div class=\"dni-plaintext\">14</div></td><td><div class=\"dni-plaintext\">1168303</div></td><td>Unknown=&gt;Unknown</td></tr><tr><td><i><div class=\"dni-plaintext\">15</div></i></td><td><div class=\"dni-plaintext\">15</div></td><td><div class=\"dni-plaintext\">585388.9</div></td><td>Unknown=&gt;Unknown</td></tr><tr><td><i><div class=\"dni-plaintext\">16</div></i></td><td><div class=\"dni-plaintext\">16</div></td><td><div class=\"dni-plaintext\">1170511.6</div></td><td>Unknown=&gt;Unknown</td></tr><tr><td><i><div class=\"dni-plaintext\">17</div></i></td><td><div class=\"dni-plaintext\">17</div></td><td><div class=\"dni-plaintext\">Infinity</div></td><td>Unknown=&gt;Unknown</td></tr><tr><td><i><div class=\"dni-plaintext\">18</div></i></td><td><div class=\"dni-plaintext\">18</div></td><td><div class=\"dni-plaintext\">2053634.5</div></td><td>Unknown=&gt;Unknown</td></tr><tr><td><i><div class=\"dni-plaintext\">19</div></i></td><td><div class=\"dni-plaintext\">19</div></td><td><div class=\"dni-plaintext\">1169107.8</div></td><td>Unknown=&gt;Unknown</td></tr><tr><td><i><div class=\"dni-plaintext\">20</div></i></td><td><div class=\"dni-plaintext\">20</div></td><td><div class=\"dni-plaintext\">1183143.9</div></td><td>Unknown=&gt;Unknown</td></tr><tr><td><i><div class=\"dni-plaintext\">21</div></i></td><td><div class=\"dni-plaintext\">21</div></td><td><div class=\"dni-plaintext\">Infinity</div></td><td>Unknown=&gt;Unknown</td></tr><tr><td><i><div class=\"dni-plaintext\">22</div></i></td><td><div class=\"dni-plaintext\">22</div></td><td><div class=\"dni-plaintext\">1902086.5</div></td><td>Unknown=&gt;Unknown</td></tr></tbody></table>"
            ]
          },
          "metadata": {},
          "output_type": "display_data"
        }
      ],
      "source": [
        "// Load file\n",
        "var trainDataPath = @\"-0401_load.csv\";\n",
        "var evaluatePath = @\"0401_0415_load.csv\";\n",
        "var predictedPath = @\"predicted_notebook.csv\";\n",
        "var trainDf = DataFrame.LoadCsv(trainDataPath);\n",
        "var evaluateDf = DataFrame.LoadCsv(evaluatePath);\n",
        "\n",
        "var mlContext = new MLContext();\n",
        "var searchSpace = new SearchSpace<ForecastBySsaSearchSpace>();\n",
        "var runner = new CustomRunner(mlContext);\n",
        "var monitor = new NotebookMonitor();\n",
        "\n",
        "Console.WriteLine($\"train data Length: {trainDf.Rows.Count}\");\n",
        "var pipeline = mlContext.Transforms.CopyColumns(\"newLoad\", \"load\")\n",
        "    .Append(mlContext.Auto().CreateSweepableEstimator((context, ss) =>\n",
        "    {\n",
        "        return mlContext.Forecasting.ForecastBySsa(\"predict\", \"load\", ss.WindowSize, ss.SeriesLength, ss.TrainSize, ss.Horizon, rank: ss.Rank, variableHorizon: true, discountFactor: ss.DiscountFactor);\n",
        "    }, searchSpace));\n",
        "\n",
        "var autoMLExperiment = mlContext.Auto().CreateExperiment();\n",
        "\n",
        "autoMLExperiment.SetPipeline(pipeline)\n",
        "                .SetRunner(runner)\n",
        "                .SetTrainingTimeInSeconds(600)\n",
        "                .SetEvaluateMetric(RegressionMetric.RootMeanSquaredError)\n",
        "                .SetDataset(trainDf, evaluateDf)\n",
        "                .SetMonitor(monitor);\n",
        "                \n",
        "monitor.SetUpdate(monitor.Display());\n",
        "var res = autoMLExperiment.Run().Result;\n",
        "var bestModel = res.Model;\n",
        "\n",
        "// evaluate\n",
        "var predictEngine = bestModel.CreateTimeSeriesEngine<ForecastInput, ForecastOutnput>(mlContext);\n",
        "\n",
        "var predictLoads1H = new List<float>();\n",
        "var predictLoads2H = new List<float>();\n",
        "predictLoads2H.Add(0);\n",
        "foreach (var load in evaluateDf.GetColumn<Single>(\"load\"))\n",
        "{\n",
        "    // firstly, get next n predict where n is horizon\n",
        "    var predict = predictEngine.Predict();\n",
        "\n",
        "    predictLoads1H.Add(predict.Predict[0]);\n",
        "    predictLoads2H.Add(predict.Predict[1]);\n",
        "\n",
        "    // update model with truth value\n",
        "    predictEngine.Predict(new ForecastInput()\n",
        "    {\n",
        "        Load = load,\n",
        "    });\n",
        "}\n",
        "\n",
        "evaluateDf[\"predict_load_1h\"] = DataFrameColumn.Create(\"predict_load_1h\", predictLoads1H);\n",
        "evaluateDf[\"predict_load_2h\"] = DataFrameColumn.Create(\"predict_load_2h\", predictLoads2H.SkipLast(1));\n",
        "DataFrame.WriteCsv(evaluateDf, predictedPath);\n"
      ]
    },
    {
      "cell_type": "code",
      "execution_count": null,
      "metadata": {
        "dotnet_interactive": {
          "language": "csharp"
        },
        "vscode": {
          "languageId": "dotnet-interactive.csharp"
        }
      },
      "outputs": [
        {
          "name": "stdout",
          "output_type": "stream",
          "text": [
            "162740.529678381\r\n"
          ]
        },
        {
          "data": {
            "text/html": [
              "<div class=\"dni-plaintext\">284092.24417431746</div>"
            ]
          },
          "metadata": {},
          "output_type": "display_data"
        }
      ],
      "source": [
        "using System.Linq;\n",
        "var rmse_1h = (evaluateDf[\"load\"] - evaluateDf[\"predict_load_1h\"]).Cast<float>().Select(x => x * x).Average();\n",
        "Console.WriteLine(Math.Sqrt(rmse_1h));\n",
        "\n",
        "var rmse_2h = (evaluateDf[\"load\"] - evaluateDf[\"predict_load_2h\"]).Cast<float>().Select(x => x * x).Average();\n",
        "Math.Sqrt(rmse_2h)\n"
      ]
    },
    {
      "cell_type": "code",
      "execution_count": null,
      "metadata": {
        "dotnet_interactive": {
          "language": "csharp"
        },
        "vscode": {
          "languageId": "dotnet-interactive.csharp"
        }
      },
      "outputs": [
        {
          "data": {
            "text/html": [
              "<div class=\"dni-plaintext\">510309.9896741507</div>"
            ]
          },
          "metadata": {},
          "output_type": "display_data"
        }
      ],
      "source": [
        "res.Metric"
      ]
    }
  ],
  "metadata": {
    "interpreter": {
      "hash": "372b0070f75afa631ad0ea566dcf6536dd2a3d87357e268085bf5a639671edaf"
    },
    "kernelspec": {
      "display_name": ".NET (C#)",
      "language": "C#",
      "name": ".net-csharp"
    },
    "language_info": {
      "file_extension": ".cs",
      "mimetype": "text/x-csharp",
      "name": "C#",
      "pygments_lexer": "csharp",
      "version": "9.0"
    }
  },
  "nbformat": 4,
  "nbformat_minor": 4
}
